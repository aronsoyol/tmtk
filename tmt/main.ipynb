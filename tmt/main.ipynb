{
 "cells": [
  {
   "cell_type": "code",
   "execution_count": 15,
   "metadata": {},
   "outputs": [],
   "source": [
    "import sys\n",
    "import os\n",
    "import math\n",
    "# import freetype2 as freetype # use Qahirah instance\n",
    "import qahirah as qah\n",
    "from qahirah import \\\n",
    "    CAIRO, \\\n",
    "    Colour, \\\n",
    "    Glyph, \\\n",
    "    Vector\n",
    "ft = qah.get_ft_lib()\n",
    "# import fribidi as fb\n",
    "# from fribidi import \\\n",
    "#     FRIBIDI as FB\n",
    "import harfbuzz as hb"
   ]
  },
  {
   "cell_type": "code",
   "execution_count": 16,
   "metadata": {},
   "outputs": [
    {
     "name": "stdout",
     "output_type": "stream",
     "text": [
      "/Users/aron/Library/Fonts/MongolianWhite.ttf\n"
     ]
    }
   ],
   "source": [
    "text_line = \"ᠠᠷᠢᠭᠤᠨᠰᠤᠶᠤᠯ\"\n",
    "base_rtl = False # overall direction of line\n",
    "\n",
    "# Initial font and buffer setup:\n",
    "\n",
    "text_size = 36\n",
    "buf = hb.Buffer.create()\n",
    "ft_face = ft.find_face(\"MongolianWhite\")\n",
    "print(ft_face.filename)\n",
    "ft_face.set_char_size(size = text_size, resolution = qah.base_dpi)\n",
    "hb_font = hb.Font.ft_create(ft_face)\n",
    "\n",
    "# Use FriBidi to reorder the line and define the embedding levels, using the\n",
    "# `ReorderLine` convenience wrapper class provided by PyBidi:\n",
    "\n",
    "# reordered = fribidi.ReorderLine \\\n",
    "#   (\n",
    "#     text_line = text_line,\n",
    "#     base_dir = (FB.PAR_LTR, FB.PAR_RTL)[base_rtl],\n",
    "#     flags = FRIBIDI.FLAGS_DEFAULT\n",
    "#   )\n",
    "\n",
    "# Next, collect the glyphs for each segment/run into a list of Qahirah `Glyphs` objects.\n",
    "# Note the `Buffer.get_glyphs` convenience method provided by HarfPy:\n",
    "\n",
    "glyphs = []\n",
    "# glyph_pos = Vector(0, 0)\n",
    "# for substr, pos1, pos2, level in reordered.each_embedding_run(vis_order = False) :\n",
    "#     buf.reset()\n",
    "#     buf.add_str(substr)\n",
    "#     buf.guess_segment_properties()\n",
    "#     hb.shape(hb_font, buf)\n",
    "#     new_glyphs, end_glyph_pos = buf.get_glyphs(glyph_pos)\n",
    "#     glyph_pos = end_glyph_pos\n",
    "#     glyphs.extend(new_glyphs)\n",
    "#end for\n",
    "\n",
    "# Do the Cairo font setup, and figure out how big an `ImageSurface` we need:"
   ]
  },
  {
   "cell_type": "code",
   "execution_count": 19,
   "metadata": {},
   "outputs": [
    {
     "data": {
      "text/plain": [
       "[347, 617, 365, 542, 381, 413, 581, 381, 613, 381, 578]"
      ]
     },
     "execution_count": 19,
     "metadata": {},
     "output_type": "execute_result"
    }
   ],
   "source": [
    "glyphs = []\n",
    "glyph_pos = Vector(0, 0)\n",
    "buf.reset()\n",
    "buf.add_str(text_line)\n",
    "buf.guess_segment_properties()\n",
    "hb.shape(hb_font, buf)\n",
    "new_glyphs, end_glyph_pos = buf.get_glyphs(glyph_pos)\n",
    "glyph_pos = end_glyph_pos\n",
    "glyphs.extend(new_glyphs)\n",
    "[g.index for g in glyphs]"
   ]
  },
  {
   "cell_type": "code",
   "execution_count": 1,
   "metadata": {},
   "outputs": [
    {
     "ename": "NameError",
     "evalue": "name 'glyph_pos' is not defined",
     "output_type": "error",
     "traceback": [
      "\u001b[0;31m---------------------------------------------------------------------------\u001b[0m",
      "\u001b[0;31mNameError\u001b[0m                                 Traceback (most recent call last)",
      "\u001b[0;32m<ipython-input-1-2de5b2448e50>\u001b[0m in \u001b[0;36m<module>\u001b[0;34m()\u001b[0m\n\u001b[0;32m----> 1\u001b[0;31m \u001b[0mglyph_pos\u001b[0m\u001b[0;34m\u001b[0m\u001b[0m\n\u001b[0m",
      "\u001b[0;31mNameError\u001b[0m: name 'glyph_pos' is not defined"
     ]
    }
   ],
   "source": [
    "glyph_array = buf.get_glyphs_codepoint()\n",
    "print(glyph_array)"
   ]
  },
  {
   "cell_type": "code",
   "execution_count": 54,
   "metadata": {},
   "outputs": [
    {
     "data": {
      "text/plain": [
       "<qahirah.FontFace at 0x10dcf95a0>"
      ]
     },
     "execution_count": 54,
     "metadata": {},
     "output_type": "execute_result"
    }
   ],
   "source": [
    "qah_face = qah.FontFace.create_for_ft_face(ft_face)\n",
    "qah_face"
   ]
  },
  {
   "cell_type": "code",
   "execution_count": 55,
   "metadata": {},
   "outputs": [],
   "source": [
    "glyph_extents = \\\n",
    "    (qah.Context.create_for_dummy()\n",
    "        .set_font_face(qah_face)\n",
    "        .set_font_size(text_size)\n",
    "        .glyph_extents(glyphs)\n",
    "    )\n",
    "figure_bounds = math.ceil(glyph_extents.bounds)\n",
    "pix = qah.ImageSurface.create \\\n",
    "  (\n",
    "    format = CAIRO.FORMAT_RGB24,\n",
    "    dimensions = figure_bounds.dimensions\n",
    "  )\n",
    "\n",
    "# Actually render the glyphs into a Cairo context:"
   ]
  },
  {
   "cell_type": "code",
   "execution_count": 56,
   "metadata": {},
   "outputs": [
    {
     "data": {
      "text/plain": [
       "<qahirah.Context at 0x10eacb188>"
      ]
     },
     "execution_count": 56,
     "metadata": {},
     "output_type": "execute_result"
    }
   ],
   "source": [
    "(qah.Context.create(pix)\n",
    "    .translate(- figure_bounds.topleft)\n",
    "    .set_source_colour(Colour.grey(1))\n",
    "    .paint()\n",
    "    .set_source_colour(Colour.grey(0))\n",
    "    .set_font_face(qah_face)\n",
    "    .set_font_size(text_size)\n",
    "    .show_glyphs(glyphs)\n",
    ")"
   ]
  },
  {
   "cell_type": "code",
   "execution_count": 57,
   "metadata": {},
   "outputs": [
    {
     "data": {
      "text/plain": [
       "<qahirah.ImageSurface at 0x10ddbf4c8>"
      ]
     },
     "execution_count": 57,
     "metadata": {},
     "output_type": "execute_result"
    }
   ],
   "source": [
    "pix.flush().write_to_png(\"b.png\")"
   ]
  },
  {
   "cell_type": "code",
   "execution_count": null,
   "metadata": {},
   "outputs": [],
   "source": []
  }
 ],
 "metadata": {
  "kernelspec": {
   "display_name": "Python 3",
   "language": "python",
   "name": "python3"
  },
  "language_info": {
   "codemirror_mode": {
    "name": "ipython",
    "version": 3
   },
   "file_extension": ".py",
   "mimetype": "text/x-python",
   "name": "python",
   "nbconvert_exporter": "python",
   "pygments_lexer": "ipython3",
   "version": "3.6.0"
  }
 },
 "nbformat": 4,
 "nbformat_minor": 2
}
