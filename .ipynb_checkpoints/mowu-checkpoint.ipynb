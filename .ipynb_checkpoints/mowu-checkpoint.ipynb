{
 "cells": [
  {
   "cell_type": "markdown",
   "metadata": {},
   "source": [
    "## mowu (Mongolian Word Unifier)"
   ]
  },
  {
   "cell_type": "code",
   "execution_count": 1,
   "metadata": {},
   "outputs": [],
   "source": [
    "import sys\n",
    "import array\n",
    "import gi\n",
    "from gi.repository import GLib\n",
    "gi.require_version('HarfBuzz', '0.0')\n",
    "from gi.repository import HarfBuzz as hb\n",
    "import freetype\n",
    "import numpy\n",
    "from PIL import Image\n",
    "import imagehash\n",
    "from collections import defaultdict"
   ]
  },
  {
   "cell_type": "code",
   "execution_count": 2,
   "metadata": {},
   "outputs": [],
   "source": [
    "try:\n",
    "    unicode\n",
    "except NameError:\n",
    "    unicode = str"
   ]
  },
  {
   "cell_type": "code",
   "execution_count": 3,
   "metadata": {},
   "outputs": [],
   "source": [
    "class Shaper():\n",
    "    def __init__(self, font_path):\n",
    "        fontdata = open(font_path, 'rb').read()\n",
    "        blob = hb.glib_blob_create(GLib.Bytes.new(fontdata))\n",
    "        face = hb.face_create(blob, 0)\n",
    "        del blob\n",
    "        self.__font = hb.font_create(face)\n",
    "        upem = hb.face_get_upem(face)\n",
    "        del face\n",
    "        hb.font_set_scale(self.__font, upem, upem)\n",
    "        #hb.ft_font_set_funcs (font)\n",
    "        hb.ot_font_set_funcs(self.__font)\n",
    "\n",
    "    def render(self, text_=\"abvd\", flag=False):\n",
    "        text= text_\n",
    "        # Need to create GLib.Bytes explicitly until this bug is fixed:\n",
    "        # https://bugzilla.gnome.org/show_bug.cgi?id=729541\n",
    "\n",
    "        buf = hb.buffer_create()\n",
    "\n",
    "        # class Debugger(object):\n",
    "        #     def message(self, buf, font, msg, data, _x_what_is_this):\n",
    "        #         print(msg)\n",
    "        #         return True\n",
    "        # debugger = Debugger()\n",
    "        # hb.buffer_set_message_func (buf, debugger.message, 1, 0)\n",
    "\n",
    "        ##\n",
    "        ## Add text to buffer\n",
    "        ##\n",
    "        #\n",
    "        # See https://github.com/harfbuzz/harfbuzz/pull/271\n",
    "        #\n",
    "        if flag:\n",
    "            # If you do not care about cluster values reflecting Python\n",
    "            # string indices, then this is quickest way to add text to\n",
    "            # buffer:\n",
    "            #         void hb_buffer_add_utf8 (hb_buffer_t *buffer,\n",
    "            #                     const char *text,\n",
    "            #                     int text_length,\n",
    "            #                     unsigned int item_offset,\n",
    "            #                     int item_length);\n",
    "            hb.buffer_add_utf8(buf, text.encode('utf-8'), 0, -1)\n",
    "            # Otherwise, then following handles both narrow and wide\n",
    "            # Python builds:\n",
    "        elif sys.maxunicode == 0x10FFFF:\n",
    "            hb.buffer_add_utf32(buf, array.array(\n",
    "                'I', text.encode('utf-32le')), 0, -1)\n",
    "        else:\n",
    "            hb.buffer_add_utf16(buf, array.array(\n",
    "                'H', text.encode('utf-16le')), 0, -1)\n",
    "\n",
    "        hb.buffer_guess_segment_properties(buf)\n",
    "\n",
    "        hb.shape(self.__font, buf, [])\n",
    "        # del font\n",
    "\n",
    "        infos = hb.buffer_get_glyph_infos(buf)\n",
    "        # positions = hb.buffer_get_glyph_positions(buf)\n",
    "\n",
    "    #     for info,pos in zip(infos, positions):\n",
    "    #         gid = info.codepoint\n",
    "    #         cluster = info.cluster\n",
    "    #         x_advance = pos.x_advance\n",
    "    #         x_offset = pos.x_offset\n",
    "    #         y_offset = pos.y_offset\n",
    "\n",
    "    #         print(\"gid %04d=%d@%d,%d+%d\" % (gid, cluster, x_advance, x_offset, y_offset))\n",
    "        return [info.codepoint for info in infos]"
   ]
  },
  {
   "cell_type": "code",
   "execution_count": 4,
   "metadata": {},
   "outputs": [],
   "source": [
    "def get_default_glyph_sub_table():\n",
    "    return {\n",
    "        213:  (212, 212),\n",
    "        236:  (210, 239),\n",
    "        241:  (242, 242),\n",
    "        246:  (210, 248),\n",
    "        270:  (210, 248, 239),\n",
    "        273:  (248, 239),\n",
    "        687:  (248, 212)\n",
    "    }"
   ]
  },
  {
   "cell_type": "code",
   "execution_count": 5,
   "metadata": {},
   "outputs": [],
   "source": [
    "class mowu():\n",
    "    \n",
    "    __hash_to_id_dict = defaultdict(lambda: list())\n",
    "    __gid_to_uniq_gid = dict()\n",
    "\n",
    "    \n",
    "    def __init__(self, font_path):\n",
    "        self.__font_path = font_path\n",
    "        self.__render_all_glyphs()\n",
    "        self.__glyph_sub_table = get_default_glyph_sub_table()\n",
    "        self.__shaper = Shaper(font_path)\n",
    "\n",
    "        \n",
    "    def __render_glyph(self, face, gid):\n",
    "        face.load_glyph(gid)\n",
    "\n",
    "        bitmap = face.glyph.bitmap\n",
    "        if len(bitmap.buffer) == 0:\n",
    "            return None\n",
    "\n",
    "        arr = numpy.array([255 - dot for dot in bitmap.buffer]\n",
    "                          ).reshape((bitmap.rows, bitmap.width))\n",
    "        return arr\n",
    "\n",
    "\n",
    "    def __render_all_glyphs(self ):\n",
    "        hdict = {}\n",
    "        face = freetype.Face(self.__font_path)\n",
    "        face.set_char_size(48 * 64)\n",
    "\n",
    "        for n in range(face.num_glyphs):\n",
    "            arr = self.__render_glyph(face, n)\n",
    "\n",
    "            if not arr is None:\n",
    "                img = Image.fromarray(numpy.uint8(arr))\n",
    "                if img:\n",
    "                    hs = str(imagehash.phash(img))\n",
    "                    hdict[n] = hs\n",
    "\n",
    "        \n",
    "\n",
    "        for g_id, hs in sorted(hdict.items(), key=lambda a: a[1]):\n",
    "            self.__hash_to_id_dict[hs].append(g_id)\n",
    "        \n",
    "        for gls in self.__hash_to_id_dict.values():\n",
    "            for gid in gls:\n",
    "                self.__gid_to_uniq_gid[gid] = gls[0]\n",
    "\n",
    "\n",
    "    def __glyph_decompositoin(self, g_lst):\n",
    "        ls = []\n",
    "        for g in g_lst:\n",
    "            if g in self.__glyph_sub_table:\n",
    "                ls.extend(self.__glyph_sub_table[g] )\n",
    "            else:\n",
    "                ls.append(g)\n",
    "        return ls\n",
    "\n",
    "    def get_uniq_gid_list(self, word):\n",
    "        g_lst = self.__shaper.render(word)\n",
    "        ls = []\n",
    "        for g in g_lst:\n",
    "            if g in self.__gid_to_uniq_gid:\n",
    "                ls.append( self.__gid_to_uniq_gid[g])\n",
    "        return self.__glyph_decompositoin(ls)"
   ]
  },
  {
   "cell_type": "code",
   "execution_count": 6,
   "metadata": {},
   "outputs": [],
   "source": [
    "font_path = \"/Users/aron/dev/workspace/uniq_mongolian/MongolianWhite3.ttf\"\n",
    "umw = UMW(font_path = font_path)"
   ]
  },
  {
   "cell_type": "code",
   "execution_count": 7,
   "metadata": {},
   "outputs": [
    {
     "name": "stdout",
     "output_type": "stream",
     "text": [
      "[209, 212, 665, 248, 212, 659, 710, 808, 783, 212, 665, 248, 212, 741]\n"
     ]
    }
   ],
   "source": [
    "uni_g_list = umw.get_uniq_gid_list(\"ᠠᠠᠰᠳᠯᠵᠺᠹᠬᠠᠰᠳᠹ\")\n",
    "\n",
    "print(uni_g_list)\n",
    "#     render_all_glyphs()"
   ]
  },
  {
   "cell_type": "code",
   "execution_count": 8,
   "metadata": {},
   "outputs": [
    {
     "ename": "NameError",
     "evalue": "name 'main' is not defined",
     "output_type": "error",
     "traceback": [
      "\u001b[0;31m---------------------------------------------------------------------------\u001b[0m",
      "\u001b[0;31mNameError\u001b[0m                                 Traceback (most recent call last)",
      "\u001b[0;32m<ipython-input-8-7923775ee8b7>\u001b[0m in \u001b[0;36m<module>\u001b[0;34m()\u001b[0m\n\u001b[1;32m      1\u001b[0m \u001b[0;32mif\u001b[0m \u001b[0m__name__\u001b[0m \u001b[0;34m==\u001b[0m \u001b[0;34m'__main__'\u001b[0m\u001b[0;34m:\u001b[0m\u001b[0;34m\u001b[0m\u001b[0m\n\u001b[0;32m----> 2\u001b[0;31m     \u001b[0mmain\u001b[0m\u001b[0;34m(\u001b[0m\u001b[0;34m)\u001b[0m\u001b[0;34m\u001b[0m\u001b[0m\n\u001b[0m\u001b[1;32m      3\u001b[0m     \u001b[0;31m# shp = Shaper(\"MongolianWhite3.ttf\")\u001b[0m\u001b[0;34m\u001b[0m\u001b[0;34m\u001b[0m\u001b[0m\n\u001b[1;32m      4\u001b[0m     \u001b[0;31m# print(shp.render(\"ᠰᠠᠢᠨ\"))\u001b[0m\u001b[0;34m\u001b[0m\u001b[0;34m\u001b[0m\u001b[0m\n",
      "\u001b[0;31mNameError\u001b[0m: name 'main' is not defined"
     ]
    }
   ],
   "source": [
    "if __name__ == '__main__':\n",
    "    main()\n",
    "    # shp = Shaper(\"MongolianWhite3.ttf\")\n",
    "    # print(shp.render(\"ᠰᠠᠢᠨ\"))"
   ]
  },
  {
   "cell_type": "code",
   "execution_count": null,
   "metadata": {},
   "outputs": [],
   "source": [
    "main()"
   ]
  },
  {
   "cell_type": "code",
   "execution_count": null,
   "metadata": {},
   "outputs": [],
   "source": [
    "    hash_to_glyphs_dict = render_all_glyphs()\n",
    "    gid_to_uniq_gid = dict()\n",
    "    for gls in hash_to_glyphs_dict.values():\n",
    "        for gid in gls:\n",
    "            gid_to_uniq_gid[gid] = gls[0]\n",
    "\n"
   ]
  }
 ],
 "metadata": {
  "kernelspec": {
   "display_name": "Python 3",
   "language": "python",
   "name": "python3"
  },
  "language_info": {
   "codemirror_mode": {
    "name": "ipython",
    "version": 3
   },
   "file_extension": ".py",
   "mimetype": "text/x-python",
   "name": "python",
   "nbconvert_exporter": "python",
   "pygments_lexer": "ipython3",
   "version": "3.6.0"
  }
 },
 "nbformat": 4,
 "nbformat_minor": 2
}
